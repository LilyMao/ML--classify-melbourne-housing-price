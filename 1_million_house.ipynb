{
  "nbformat": 4,
  "nbformat_minor": 0,
  "metadata": {
    "colab": {
      "name": "1 million house.ipynb",
      "provenance": [],
      "collapsed_sections": [],
      "authorship_tag": "ABX9TyNndGA0f6L8F8W0YcNFrVAu",
      "include_colab_link": true
    },
    "kernelspec": {
      "name": "python3",
      "display_name": "Python 3"
    },
    "language_info": {
      "name": "python"
    }
  },
  "cells": [
    {
      "cell_type": "markdown",
      "metadata": {
        "id": "view-in-github",
        "colab_type": "text"
      },
      "source": [
        "<a href=\"https://colab.research.google.com/github/LilyMao/MelbourneHomePrice/blob/main/1_million_house.ipynb\" target=\"_parent\"><img src=\"https://colab.research.google.com/assets/colab-badge.svg\" alt=\"Open In Colab\"/></a>"
      ]
    },
    {
      "cell_type": "code",
      "metadata": {
        "id": "pAz_HN2QQen9"
      },
      "source": [
        "import pandas as pd\n",
        "import numpy as np\n"
      ],
      "execution_count": 238,
      "outputs": []
    },
    {
      "cell_type": "markdown",
      "metadata": {
        "id": "ZftwvEBrymeJ"
      },
      "source": [
        "Load the listing file retrieved from Domain\n",
        "\n",
        "1.  This is a small dataset contains only 233 listings.\n",
        "2.  The only columns useful here are 'suburb', 'propertyType', 'bedrooms',\n",
        "'bathrooms', 'carspaces', 'price'\n",
        "\n",
        "\n",
        "\n"
      ]
    },
    {
      "cell_type": "code",
      "metadata": {
        "colab": {
          "base_uri": "https://localhost:8080/"
        },
        "id": "a1SvosGz0JsY",
        "outputId": "7bbe9589-299e-4c6f-809f-40b65169a3e8"
      },
      "source": [
        "df_listings=pd.read_json('melbourne_listing.json')\n",
        "df_listings.shape"
      ],
      "execution_count": 239,
      "outputs": [
        {
          "output_type": "execute_result",
          "data": {
            "text/plain": [
              "(233, 20)"
            ]
          },
          "metadata": {},
          "execution_count": 239
        }
      ]
    },
    {
      "cell_type": "code",
      "metadata": {
        "colab": {
          "base_uri": "https://localhost:8080/",
          "height": 419
        },
        "id": "kRx-ketL1Fcx",
        "outputId": "d8944cea-0b85-475f-c07b-49cd5f4a82fc"
      },
      "source": [
        "df_listings=df_listings[['suburb','propertyType','bedrooms','bathrooms','carspaces','price']]\n",
        "df_listings"
      ],
      "execution_count": 240,
      "outputs": [
        {
          "output_type": "execute_result",
          "data": {
            "text/html": [
              "<div>\n",
              "<style scoped>\n",
              "    .dataframe tbody tr th:only-of-type {\n",
              "        vertical-align: middle;\n",
              "    }\n",
              "\n",
              "    .dataframe tbody tr th {\n",
              "        vertical-align: top;\n",
              "    }\n",
              "\n",
              "    .dataframe thead th {\n",
              "        text-align: right;\n",
              "    }\n",
              "</style>\n",
              "<table border=\"1\" class=\"dataframe\">\n",
              "  <thead>\n",
              "    <tr style=\"text-align: right;\">\n",
              "      <th></th>\n",
              "      <th>suburb</th>\n",
              "      <th>propertyType</th>\n",
              "      <th>bedrooms</th>\n",
              "      <th>bathrooms</th>\n",
              "      <th>carspaces</th>\n",
              "      <th>price</th>\n",
              "    </tr>\n",
              "  </thead>\n",
              "  <tbody>\n",
              "    <tr>\n",
              "      <th>0</th>\n",
              "      <td>Abbotsford</td>\n",
              "      <td>Townhouse</td>\n",
              "      <td>2</td>\n",
              "      <td>2.0</td>\n",
              "      <td>1.0</td>\n",
              "      <td>880000.0</td>\n",
              "    </tr>\n",
              "    <tr>\n",
              "      <th>1</th>\n",
              "      <td>Ascot Vale</td>\n",
              "      <td>House</td>\n",
              "      <td>4</td>\n",
              "      <td>1.0</td>\n",
              "      <td>1.0</td>\n",
              "      <td>NaN</td>\n",
              "    </tr>\n",
              "    <tr>\n",
              "      <th>2</th>\n",
              "      <td>Ashwood</td>\n",
              "      <td>House</td>\n",
              "      <td>3</td>\n",
              "      <td>1.0</td>\n",
              "      <td>2.0</td>\n",
              "      <td>1612000.0</td>\n",
              "    </tr>\n",
              "    <tr>\n",
              "      <th>3</th>\n",
              "      <td>Aspendale Gardens</td>\n",
              "      <td>House</td>\n",
              "      <td>4</td>\n",
              "      <td>2.0</td>\n",
              "      <td>2.0</td>\n",
              "      <td>NaN</td>\n",
              "    </tr>\n",
              "    <tr>\n",
              "      <th>4</th>\n",
              "      <td>Attwood</td>\n",
              "      <td>House</td>\n",
              "      <td>4</td>\n",
              "      <td>1.0</td>\n",
              "      <td>2.0</td>\n",
              "      <td>780000.0</td>\n",
              "    </tr>\n",
              "    <tr>\n",
              "      <th>...</th>\n",
              "      <td>...</td>\n",
              "      <td>...</td>\n",
              "      <td>...</td>\n",
              "      <td>...</td>\n",
              "      <td>...</td>\n",
              "      <td>...</td>\n",
              "    </tr>\n",
              "    <tr>\n",
              "      <th>228</th>\n",
              "      <td>Werribee</td>\n",
              "      <td>House</td>\n",
              "      <td>4</td>\n",
              "      <td>2.0</td>\n",
              "      <td>2.0</td>\n",
              "      <td>700000.0</td>\n",
              "    </tr>\n",
              "    <tr>\n",
              "      <th>229</th>\n",
              "      <td>Werribee</td>\n",
              "      <td>House</td>\n",
              "      <td>4</td>\n",
              "      <td>2.0</td>\n",
              "      <td>2.0</td>\n",
              "      <td>550000.0</td>\n",
              "    </tr>\n",
              "    <tr>\n",
              "      <th>230</th>\n",
              "      <td>Wyndham Vale</td>\n",
              "      <td>House</td>\n",
              "      <td>3</td>\n",
              "      <td>1.0</td>\n",
              "      <td>2.0</td>\n",
              "      <td>450000.0</td>\n",
              "    </tr>\n",
              "    <tr>\n",
              "      <th>231</th>\n",
              "      <td>Yarraville</td>\n",
              "      <td>House</td>\n",
              "      <td>4</td>\n",
              "      <td>2.0</td>\n",
              "      <td>2.0</td>\n",
              "      <td>NaN</td>\n",
              "    </tr>\n",
              "    <tr>\n",
              "      <th>232</th>\n",
              "      <td>Yarraville</td>\n",
              "      <td>House</td>\n",
              "      <td>3</td>\n",
              "      <td>1.0</td>\n",
              "      <td>1.0</td>\n",
              "      <td>NaN</td>\n",
              "    </tr>\n",
              "  </tbody>\n",
              "</table>\n",
              "<p>233 rows × 6 columns</p>\n",
              "</div>"
            ],
            "text/plain": [
              "                suburb propertyType  bedrooms  bathrooms  carspaces      price\n",
              "0           Abbotsford    Townhouse         2        2.0        1.0   880000.0\n",
              "1           Ascot Vale        House         4        1.0        1.0        NaN\n",
              "2              Ashwood        House         3        1.0        2.0  1612000.0\n",
              "3    Aspendale Gardens        House         4        2.0        2.0        NaN\n",
              "4              Attwood        House         4        1.0        2.0   780000.0\n",
              "..                 ...          ...       ...        ...        ...        ...\n",
              "228           Werribee        House         4        2.0        2.0   700000.0\n",
              "229           Werribee        House         4        2.0        2.0   550000.0\n",
              "230       Wyndham Vale        House         3        1.0        2.0   450000.0\n",
              "231         Yarraville        House         4        2.0        2.0        NaN\n",
              "232         Yarraville        House         3        1.0        1.0        NaN\n",
              "\n",
              "[233 rows x 6 columns]"
            ]
          },
          "metadata": {},
          "execution_count": 240
        }
      ]
    },
    {
      "cell_type": "code",
      "metadata": {
        "colab": {
          "base_uri": "https://localhost:8080/"
        },
        "id": "i6Z_e-QZ0jIk",
        "outputId": "6a1367f4-4315-4cb7-924c-0dc5db0c04e7"
      },
      "source": [
        "df_listings.isna().sum()"
      ],
      "execution_count": 241,
      "outputs": [
        {
          "output_type": "execute_result",
          "data": {
            "text/plain": [
              "suburb            0\n",
              "propertyType      0\n",
              "bedrooms          0\n",
              "bathrooms         3\n",
              "carspaces         3\n",
              "price           105\n",
              "dtype: int64"
            ]
          },
          "metadata": {},
          "execution_count": 241
        }
      ]
    },
    {
      "cell_type": "markdown",
      "metadata": {
        "id": "2dDMYO2y0x4G"
      },
      "source": [
        "105 prices are not available, this is reasonable as for many properties we need to contact agent to have a price guide. Here since we have quite small dataset, drop all nas is not an option. I choose to fill the missing values with the median price of the indicated surburb."
      ]
    },
    {
      "cell_type": "code",
      "metadata": {
        "id": "dbx9u1081wn7"
      },
      "source": [
        "df_listings.sort_values(by='suburb',inplace=True)"
      ],
      "execution_count": 242,
      "outputs": []
    },
    {
      "cell_type": "code",
      "metadata": {
        "colab": {
          "base_uri": "https://localhost:8080/",
          "height": 419
        },
        "id": "ni8x6SDS3UMY",
        "outputId": "cdd9b7b9-bc88-4afe-ef21-d70f4a2a2ca9"
      },
      "source": [
        "df_medians=pd.read_excel('House_Medians3rdQtr2020.xls',skiprows=1)\n",
        "df_medians"
      ],
      "execution_count": 243,
      "outputs": [
        {
          "output_type": "execute_result",
          "data": {
            "text/html": [
              "<div>\n",
              "<style scoped>\n",
              "    .dataframe tbody tr th:only-of-type {\n",
              "        vertical-align: middle;\n",
              "    }\n",
              "\n",
              "    .dataframe tbody tr th {\n",
              "        vertical-align: top;\n",
              "    }\n",
              "\n",
              "    .dataframe thead th {\n",
              "        text-align: right;\n",
              "    }\n",
              "</style>\n",
              "<table border=\"1\" class=\"dataframe\">\n",
              "  <thead>\n",
              "    <tr style=\"text-align: right;\">\n",
              "      <th></th>\n",
              "      <th>SUBURB</th>\n",
              "      <th>Jul - Sep 19</th>\n",
              "      <th>Oct - Dec 19</th>\n",
              "      <th>Jan - Mar 20</th>\n",
              "      <th>Apr- Jun 20</th>\n",
              "      <th>Jul - Sep 20</th>\n",
              "      <th>No of sales</th>\n",
              "      <th>No of Sales</th>\n",
              "      <th>Jul - Sep 19.1</th>\n",
              "      <th>Apr - Jun 20</th>\n",
              "    </tr>\n",
              "  </thead>\n",
              "  <tbody>\n",
              "    <tr>\n",
              "      <th>0</th>\n",
              "      <td>NaN</td>\n",
              "      <td>NaN</td>\n",
              "      <td>NaN</td>\n",
              "      <td>NaN</td>\n",
              "      <td>NaN</td>\n",
              "      <td>NaN</td>\n",
              "      <td>Jul - Sep 20</td>\n",
              "      <td>YTD</td>\n",
              "      <td>Jul - Sep 20</td>\n",
              "      <td>Jul - Sep 20</td>\n",
              "    </tr>\n",
              "    <tr>\n",
              "      <th>1</th>\n",
              "      <td>NaN</td>\n",
              "      <td>NaN</td>\n",
              "      <td>NaN</td>\n",
              "      <td>NaN</td>\n",
              "      <td>NaN</td>\n",
              "      <td>NaN</td>\n",
              "      <td>NaN</td>\n",
              "      <td>NaN</td>\n",
              "      <td>NaN</td>\n",
              "      <td>NaN</td>\n",
              "    </tr>\n",
              "    <tr>\n",
              "      <th>2</th>\n",
              "      <td>ABBOTSFORD</td>\n",
              "      <td>1160000</td>\n",
              "      <td>1027500.0</td>\n",
              "      <td>1230000.0</td>\n",
              "      <td>1080000.0</td>\n",
              "      <td>1260000.0</td>\n",
              "      <td>8</td>\n",
              "      <td>33</td>\n",
              "      <td>8.6</td>\n",
              "      <td>16.7</td>\n",
              "    </tr>\n",
              "    <tr>\n",
              "      <th>3</th>\n",
              "      <td>ABERFELDIE</td>\n",
              "      <td>1352500</td>\n",
              "      <td>1650000.0</td>\n",
              "      <td>1732500.0</td>\n",
              "      <td>1375000.0</td>\n",
              "      <td>1600000.0</td>\n",
              "      <td>6</td>\n",
              "      <td>25</td>\n",
              "      <td>18.3</td>\n",
              "      <td>16.4</td>\n",
              "    </tr>\n",
              "    <tr>\n",
              "      <th>4</th>\n",
              "      <td>AINTREE</td>\n",
              "      <td>575000</td>\n",
              "      <td>620400.0</td>\n",
              "      <td>675000.0</td>\n",
              "      <td>685000.0</td>\n",
              "      <td>740000.0</td>\n",
              "      <td>8</td>\n",
              "      <td>52</td>\n",
              "      <td>28.7</td>\n",
              "      <td>8.0</td>\n",
              "    </tr>\n",
              "    <tr>\n",
              "      <th>...</th>\n",
              "      <td>...</td>\n",
              "      <td>...</td>\n",
              "      <td>...</td>\n",
              "      <td>...</td>\n",
              "      <td>...</td>\n",
              "      <td>...</td>\n",
              "      <td>...</td>\n",
              "      <td>...</td>\n",
              "      <td>...</td>\n",
              "      <td>...</td>\n",
              "    </tr>\n",
              "    <tr>\n",
              "      <th>758</th>\n",
              "      <td>YARRAM</td>\n",
              "      <td>224000</td>\n",
              "      <td>249800.0</td>\n",
              "      <td>259000.0</td>\n",
              "      <td>247500.0</td>\n",
              "      <td>241000.0</td>\n",
              "      <td>11</td>\n",
              "      <td>37</td>\n",
              "      <td>7.6</td>\n",
              "      <td>-2.6</td>\n",
              "    </tr>\n",
              "    <tr>\n",
              "      <th>759</th>\n",
              "      <td>YARRAVILLE</td>\n",
              "      <td>1010000</td>\n",
              "      <td>986000.0</td>\n",
              "      <td>952500.0</td>\n",
              "      <td>1050000.0</td>\n",
              "      <td>960100.0</td>\n",
              "      <td>26</td>\n",
              "      <td>106</td>\n",
              "      <td>-4.9</td>\n",
              "      <td>-8.6</td>\n",
              "    </tr>\n",
              "    <tr>\n",
              "      <th>760</th>\n",
              "      <td>YARRAWONGA</td>\n",
              "      <td>372500</td>\n",
              "      <td>389800.0</td>\n",
              "      <td>398000.0</td>\n",
              "      <td>452500.0</td>\n",
              "      <td>482500.0</td>\n",
              "      <td>42</td>\n",
              "      <td>107</td>\n",
              "      <td>29.5</td>\n",
              "      <td>6.6</td>\n",
              "    </tr>\n",
              "    <tr>\n",
              "      <th>761</th>\n",
              "      <td>YEA</td>\n",
              "      <td>470500</td>\n",
              "      <td>420000.0</td>\n",
              "      <td>395000.0</td>\n",
              "      <td>421300.0</td>\n",
              "      <td>495000.0</td>\n",
              "      <td>6</td>\n",
              "      <td>21</td>\n",
              "      <td>5.2</td>\n",
              "      <td>17.5</td>\n",
              "    </tr>\n",
              "    <tr>\n",
              "      <th>762</th>\n",
              "      <td>YINNAR</td>\n",
              "      <td>300000</td>\n",
              "      <td>223000.0</td>\n",
              "      <td>295000.0</td>\n",
              "      <td>374000.0</td>\n",
              "      <td>365000.0</td>\n",
              "      <td>1</td>\n",
              "      <td>9</td>\n",
              "      <td>21.7</td>\n",
              "      <td>-2.4</td>\n",
              "    </tr>\n",
              "  </tbody>\n",
              "</table>\n",
              "<p>763 rows × 10 columns</p>\n",
              "</div>"
            ],
            "text/plain": [
              "         SUBURB Jul - Sep 19  ...  Jul - Sep 19.1  Apr - Jun 20\n",
              "0           NaN          NaN  ...    Jul - Sep 20  Jul - Sep 20\n",
              "1           NaN          NaN  ...             NaN           NaN\n",
              "2    ABBOTSFORD      1160000  ...             8.6          16.7\n",
              "3    ABERFELDIE      1352500  ...            18.3          16.4\n",
              "4       AINTREE       575000  ...            28.7           8.0\n",
              "..          ...          ...  ...             ...           ...\n",
              "758      YARRAM       224000  ...             7.6          -2.6\n",
              "759  YARRAVILLE      1010000  ...            -4.9          -8.6\n",
              "760  YARRAWONGA       372500  ...            29.5           6.6\n",
              "761         YEA       470500  ...             5.2          17.5\n",
              "762      YINNAR       300000  ...            21.7          -2.4\n",
              "\n",
              "[763 rows x 10 columns]"
            ]
          },
          "metadata": {},
          "execution_count": 243
        }
      ]
    },
    {
      "cell_type": "markdown",
      "metadata": {
        "id": "RkGovsna11vI"
      },
      "source": [
        "I am only interested in the suburb and median price in this file. "
      ]
    },
    {
      "cell_type": "code",
      "metadata": {
        "id": "9qsX1kuJ3qve",
        "colab": {
          "base_uri": "https://localhost:8080/",
          "height": 419
        },
        "outputId": "4e6b998c-2e5d-4065-9827-7409d896e052"
      },
      "source": [
        "df_medians=df_medians[['SUBURB','Jul - Sep 20']]\n",
        "df_medians"
      ],
      "execution_count": 244,
      "outputs": [
        {
          "output_type": "execute_result",
          "data": {
            "text/html": [
              "<div>\n",
              "<style scoped>\n",
              "    .dataframe tbody tr th:only-of-type {\n",
              "        vertical-align: middle;\n",
              "    }\n",
              "\n",
              "    .dataframe tbody tr th {\n",
              "        vertical-align: top;\n",
              "    }\n",
              "\n",
              "    .dataframe thead th {\n",
              "        text-align: right;\n",
              "    }\n",
              "</style>\n",
              "<table border=\"1\" class=\"dataframe\">\n",
              "  <thead>\n",
              "    <tr style=\"text-align: right;\">\n",
              "      <th></th>\n",
              "      <th>SUBURB</th>\n",
              "      <th>Jul - Sep 20</th>\n",
              "    </tr>\n",
              "  </thead>\n",
              "  <tbody>\n",
              "    <tr>\n",
              "      <th>0</th>\n",
              "      <td>NaN</td>\n",
              "      <td>NaN</td>\n",
              "    </tr>\n",
              "    <tr>\n",
              "      <th>1</th>\n",
              "      <td>NaN</td>\n",
              "      <td>NaN</td>\n",
              "    </tr>\n",
              "    <tr>\n",
              "      <th>2</th>\n",
              "      <td>ABBOTSFORD</td>\n",
              "      <td>1260000.0</td>\n",
              "    </tr>\n",
              "    <tr>\n",
              "      <th>3</th>\n",
              "      <td>ABERFELDIE</td>\n",
              "      <td>1600000.0</td>\n",
              "    </tr>\n",
              "    <tr>\n",
              "      <th>4</th>\n",
              "      <td>AINTREE</td>\n",
              "      <td>740000.0</td>\n",
              "    </tr>\n",
              "    <tr>\n",
              "      <th>...</th>\n",
              "      <td>...</td>\n",
              "      <td>...</td>\n",
              "    </tr>\n",
              "    <tr>\n",
              "      <th>758</th>\n",
              "      <td>YARRAM</td>\n",
              "      <td>241000.0</td>\n",
              "    </tr>\n",
              "    <tr>\n",
              "      <th>759</th>\n",
              "      <td>YARRAVILLE</td>\n",
              "      <td>960100.0</td>\n",
              "    </tr>\n",
              "    <tr>\n",
              "      <th>760</th>\n",
              "      <td>YARRAWONGA</td>\n",
              "      <td>482500.0</td>\n",
              "    </tr>\n",
              "    <tr>\n",
              "      <th>761</th>\n",
              "      <td>YEA</td>\n",
              "      <td>495000.0</td>\n",
              "    </tr>\n",
              "    <tr>\n",
              "      <th>762</th>\n",
              "      <td>YINNAR</td>\n",
              "      <td>365000.0</td>\n",
              "    </tr>\n",
              "  </tbody>\n",
              "</table>\n",
              "<p>763 rows × 2 columns</p>\n",
              "</div>"
            ],
            "text/plain": [
              "         SUBURB  Jul - Sep 20\n",
              "0           NaN           NaN\n",
              "1           NaN           NaN\n",
              "2    ABBOTSFORD     1260000.0\n",
              "3    ABERFELDIE     1600000.0\n",
              "4       AINTREE      740000.0\n",
              "..          ...           ...\n",
              "758      YARRAM      241000.0\n",
              "759  YARRAVILLE      960100.0\n",
              "760  YARRAWONGA      482500.0\n",
              "761         YEA      495000.0\n",
              "762      YINNAR      365000.0\n",
              "\n",
              "[763 rows x 2 columns]"
            ]
          },
          "metadata": {},
          "execution_count": 244
        }
      ]
    },
    {
      "cell_type": "code",
      "metadata": {
        "colab": {
          "base_uri": "https://localhost:8080/"
        },
        "id": "GtcLYj1ibsqa",
        "outputId": "35189a3b-aeff-4f6d-cc7a-1a9e057a1919"
      },
      "source": [
        "df_medians.dropna(inplace=True)"
      ],
      "execution_count": 245,
      "outputs": [
        {
          "output_type": "stream",
          "name": "stderr",
          "text": [
            "/usr/local/lib/python3.7/dist-packages/ipykernel_launcher.py:1: SettingWithCopyWarning: \n",
            "A value is trying to be set on a copy of a slice from a DataFrame\n",
            "\n",
            "See the caveats in the documentation: https://pandas.pydata.org/pandas-docs/stable/user_guide/indexing.html#returning-a-view-versus-a-copy\n",
            "  \"\"\"Entry point for launching an IPython kernel.\n"
          ]
        }
      ]
    },
    {
      "cell_type": "markdown",
      "metadata": {
        "id": "iRDA7HLm2LeP"
      },
      "source": [
        "Here I would change all values in SUBURB to title format, so that I can match them with suburbs in the df_listings. Then we merge df_listings and df_medians, fill the NA in 'price' with the median price indicated in df_medians."
      ]
    },
    {
      "cell_type": "code",
      "metadata": {
        "id": "ZT0DVRqU7AUu",
        "colab": {
          "base_uri": "https://localhost:8080/"
        },
        "outputId": "17a632c5-1115-4ca0-a6ee-c0446ad57ef9"
      },
      "source": [
        "df_medians['SUBURB']=df_medians['SUBURB'].apply(lambda x:x.title())"
      ],
      "execution_count": 246,
      "outputs": [
        {
          "output_type": "stream",
          "name": "stderr",
          "text": [
            "/usr/local/lib/python3.7/dist-packages/ipykernel_launcher.py:1: SettingWithCopyWarning: \n",
            "A value is trying to be set on a copy of a slice from a DataFrame.\n",
            "Try using .loc[row_indexer,col_indexer] = value instead\n",
            "\n",
            "See the caveats in the documentation: https://pandas.pydata.org/pandas-docs/stable/user_guide/indexing.html#returning-a-view-versus-a-copy\n",
            "  \"\"\"Entry point for launching an IPython kernel.\n"
          ]
        }
      ]
    },
    {
      "cell_type": "code",
      "metadata": {
        "id": "wOVWKBfC4Puy"
      },
      "source": [
        "with_medianprice=df_listings.merge(df_medians,left_on='suburb',right_on='SUBURB',how='left')"
      ],
      "execution_count": 247,
      "outputs": []
    },
    {
      "cell_type": "code",
      "metadata": {
        "id": "MYji5Vcx7N1r"
      },
      "source": [
        "with_medianprice['price']=with_medianprice['price'].fillna(with_medianprice['Jul - Sep 20'])\n"
      ],
      "execution_count": 248,
      "outputs": []
    },
    {
      "cell_type": "markdown",
      "metadata": {
        "id": "PUjFBooS2tjM"
      },
      "source": [
        "Now most prices are filled. 2 prices are not matched. And some listings do not have bedroom and bathroom numbers, I would drop them. After drop, I have 224 property listings."
      ]
    },
    {
      "cell_type": "code",
      "metadata": {
        "colab": {
          "base_uri": "https://localhost:8080/"
        },
        "id": "qmJyQEt6IRTp",
        "outputId": "bfeeb3e8-22b5-4629-fdee-053c790b89de"
      },
      "source": [
        "set(with_medianprice['suburb'].unique())-set(with_medianprice['SUBURB'].unique())"
      ],
      "execution_count": 249,
      "outputs": [
        {
          "output_type": "execute_result",
          "data": {
            "text/plain": [
              "{'Newtown', 'Rippleside', 'Thomson'}"
            ]
          },
          "metadata": {},
          "execution_count": 249
        }
      ]
    },
    {
      "cell_type": "code",
      "metadata": {
        "colab": {
          "base_uri": "https://localhost:8080/"
        },
        "id": "ZMWnBGQoHd9o",
        "outputId": "654bf3d3-cf7b-4971-9c46-ddbea4e10da1"
      },
      "source": [
        "with_medianprice.isna().sum()"
      ],
      "execution_count": 250,
      "outputs": [
        {
          "output_type": "execute_result",
          "data": {
            "text/plain": [
              "suburb          0\n",
              "propertyType    0\n",
              "bedrooms        0\n",
              "bathrooms       3\n",
              "carspaces       3\n",
              "price           2\n",
              "SUBURB          6\n",
              "Jul - Sep 20    6\n",
              "dtype: int64"
            ]
          },
          "metadata": {},
          "execution_count": 250
        }
      ]
    },
    {
      "cell_type": "code",
      "metadata": {
        "id": "gOzKNlhXJDQJ"
      },
      "source": [
        "with_medianprice.dropna(inplace=True)"
      ],
      "execution_count": 251,
      "outputs": []
    },
    {
      "cell_type": "code",
      "metadata": {
        "colab": {
          "base_uri": "https://localhost:8080/"
        },
        "id": "n7h1EEhXJNiU",
        "outputId": "cb6b0c6d-37c1-4339-8214-76bb9ead9774"
      },
      "source": [
        "with_medianprice.shape"
      ],
      "execution_count": 252,
      "outputs": [
        {
          "output_type": "execute_result",
          "data": {
            "text/plain": [
              "(224, 8)"
            ]
          },
          "metadata": {},
          "execution_count": 252
        }
      ]
    },
    {
      "cell_type": "code",
      "metadata": {
        "colab": {
          "base_uri": "https://localhost:8080/"
        },
        "id": "Zz3ba5ZFJQ2H",
        "outputId": "7546748c-3a33-4995-ce4b-57636d69fd27"
      },
      "source": [
        "with_medianprice.isna().sum()"
      ],
      "execution_count": 253,
      "outputs": [
        {
          "output_type": "execute_result",
          "data": {
            "text/plain": [
              "suburb          0\n",
              "propertyType    0\n",
              "bedrooms        0\n",
              "bathrooms       0\n",
              "carspaces       0\n",
              "price           0\n",
              "SUBURB          0\n",
              "Jul - Sep 20    0\n",
              "dtype: int64"
            ]
          },
          "metadata": {},
          "execution_count": 253
        }
      ]
    },
    {
      "cell_type": "code",
      "metadata": {
        "colab": {
          "base_uri": "https://localhost:8080/"
        },
        "id": "g_vKAbJv3iFq",
        "outputId": "03aad91b-4f41-462b-81ad-702a8086d715"
      },
      "source": [
        "len(with_medianprice['suburb'].unique())"
      ],
      "execution_count": 254,
      "outputs": [
        {
          "output_type": "execute_result",
          "data": {
            "text/plain": [
              "139"
            ]
          },
          "metadata": {},
          "execution_count": 254
        }
      ]
    },
    {
      "cell_type": "markdown",
      "metadata": {
        "id": "jk1OGAjw3eS0"
      },
      "source": [
        "Since we have 139 unique suburbs in listings, to use them as a feature, I would rank them to 'high', 'medium' and 'low' priced suburbs, based on the distributions of median price. Suburbs rank 'high' if their median price is over 0.75 quantile, rank 'low' if median price below 0.25 quantile, 'median' otherwise."
      ]
    },
    {
      "cell_type": "code",
      "metadata": {
        "colab": {
          "base_uri": "https://localhost:8080/"
        },
        "id": "4qj3O8Cv8ldw",
        "outputId": "2d153388-e412-442b-bb2d-48254e561957"
      },
      "source": [
        "with_medianprice['Jul - Sep 20'].describe()"
      ],
      "execution_count": 255,
      "outputs": [
        {
          "output_type": "execute_result",
          "data": {
            "text/plain": [
              "count    2.240000e+02\n",
              "mean     9.863312e+05\n",
              "std      5.448811e+05\n",
              "min      1.950000e+05\n",
              "25%      6.150000e+05\n",
              "50%      8.263000e+05\n",
              "75%      1.165000e+06\n",
              "max      3.325000e+06\n",
              "Name: Jul - Sep 20, dtype: float64"
            ]
          },
          "metadata": {},
          "execution_count": 255
        }
      ]
    },
    {
      "cell_type": "code",
      "metadata": {
        "id": "hSpw20pW-fBA"
      },
      "source": [
        "mask_high=(with_medianprice['Jul - Sep 20']>=1.160000e+06)\n",
        "mask_medium=((with_medianprice['Jul - Sep 20']>=6.150000e+05)&(with_medianprice['Jul - Sep 20']<=1.160000e+06))\n",
        "mask_low=(with_medianprice['Jul - Sep 20']<=6.150000e+05)\n"
      ],
      "execution_count": 256,
      "outputs": []
    },
    {
      "cell_type": "code",
      "metadata": {
        "id": "n_JHYun-DqZl"
      },
      "source": [
        "with_medianprice.loc[with_medianprice[mask_high].index,'suburb_rank']='high'\n",
        "with_medianprice.loc[with_medianprice[mask_medium].index,'suburb_rank']='medium'\n",
        "with_medianprice.loc[with_medianprice[mask_low].index,'suburb_rank']='low'"
      ],
      "execution_count": 257,
      "outputs": []
    },
    {
      "cell_type": "markdown",
      "metadata": {
        "id": "iryNCEat4rqz"
      },
      "source": [
        "Okay, we have new column 'suburb_rank' to replace 'suburb'."
      ]
    },
    {
      "cell_type": "code",
      "metadata": {
        "colab": {
          "base_uri": "https://localhost:8080/",
          "height": 419
        },
        "id": "mYUCmvNbGxB6",
        "outputId": "1c3ff396-8007-4016-e9e5-d3d1eb62b277"
      },
      "source": [
        "with_medianprice"
      ],
      "execution_count": 258,
      "outputs": [
        {
          "output_type": "execute_result",
          "data": {
            "text/html": [
              "<div>\n",
              "<style scoped>\n",
              "    .dataframe tbody tr th:only-of-type {\n",
              "        vertical-align: middle;\n",
              "    }\n",
              "\n",
              "    .dataframe tbody tr th {\n",
              "        vertical-align: top;\n",
              "    }\n",
              "\n",
              "    .dataframe thead th {\n",
              "        text-align: right;\n",
              "    }\n",
              "</style>\n",
              "<table border=\"1\" class=\"dataframe\">\n",
              "  <thead>\n",
              "    <tr style=\"text-align: right;\">\n",
              "      <th></th>\n",
              "      <th>suburb</th>\n",
              "      <th>propertyType</th>\n",
              "      <th>bedrooms</th>\n",
              "      <th>bathrooms</th>\n",
              "      <th>carspaces</th>\n",
              "      <th>price</th>\n",
              "      <th>SUBURB</th>\n",
              "      <th>Jul - Sep 20</th>\n",
              "      <th>suburb_rank</th>\n",
              "    </tr>\n",
              "  </thead>\n",
              "  <tbody>\n",
              "    <tr>\n",
              "      <th>0</th>\n",
              "      <td>Abbotsford</td>\n",
              "      <td>Townhouse</td>\n",
              "      <td>2</td>\n",
              "      <td>2.0</td>\n",
              "      <td>1.0</td>\n",
              "      <td>880000.0</td>\n",
              "      <td>Abbotsford</td>\n",
              "      <td>1260000.0</td>\n",
              "      <td>high</td>\n",
              "    </tr>\n",
              "    <tr>\n",
              "      <th>1</th>\n",
              "      <td>Ascot Vale</td>\n",
              "      <td>House</td>\n",
              "      <td>4</td>\n",
              "      <td>1.0</td>\n",
              "      <td>1.0</td>\n",
              "      <td>1328800.0</td>\n",
              "      <td>Ascot Vale</td>\n",
              "      <td>1328800.0</td>\n",
              "      <td>high</td>\n",
              "    </tr>\n",
              "    <tr>\n",
              "      <th>2</th>\n",
              "      <td>Ashwood</td>\n",
              "      <td>House</td>\n",
              "      <td>3</td>\n",
              "      <td>1.0</td>\n",
              "      <td>2.0</td>\n",
              "      <td>1612000.0</td>\n",
              "      <td>Ashwood</td>\n",
              "      <td>1210500.0</td>\n",
              "      <td>high</td>\n",
              "    </tr>\n",
              "    <tr>\n",
              "      <th>3</th>\n",
              "      <td>Aspendale Gardens</td>\n",
              "      <td>House</td>\n",
              "      <td>4</td>\n",
              "      <td>2.0</td>\n",
              "      <td>2.0</td>\n",
              "      <td>1002500.0</td>\n",
              "      <td>Aspendale Gardens</td>\n",
              "      <td>1002500.0</td>\n",
              "      <td>medium</td>\n",
              "    </tr>\n",
              "    <tr>\n",
              "      <th>4</th>\n",
              "      <td>Attwood</td>\n",
              "      <td>House</td>\n",
              "      <td>4</td>\n",
              "      <td>1.0</td>\n",
              "      <td>2.0</td>\n",
              "      <td>780000.0</td>\n",
              "      <td>Attwood</td>\n",
              "      <td>714000.0</td>\n",
              "      <td>medium</td>\n",
              "    </tr>\n",
              "    <tr>\n",
              "      <th>...</th>\n",
              "      <td>...</td>\n",
              "      <td>...</td>\n",
              "      <td>...</td>\n",
              "      <td>...</td>\n",
              "      <td>...</td>\n",
              "      <td>...</td>\n",
              "      <td>...</td>\n",
              "      <td>...</td>\n",
              "      <td>...</td>\n",
              "    </tr>\n",
              "    <tr>\n",
              "      <th>228</th>\n",
              "      <td>Werribee</td>\n",
              "      <td>House</td>\n",
              "      <td>4</td>\n",
              "      <td>2.0</td>\n",
              "      <td>2.0</td>\n",
              "      <td>700000.0</td>\n",
              "      <td>Werribee</td>\n",
              "      <td>518000.0</td>\n",
              "      <td>low</td>\n",
              "    </tr>\n",
              "    <tr>\n",
              "      <th>229</th>\n",
              "      <td>Werribee</td>\n",
              "      <td>House</td>\n",
              "      <td>4</td>\n",
              "      <td>2.0</td>\n",
              "      <td>2.0</td>\n",
              "      <td>550000.0</td>\n",
              "      <td>Werribee</td>\n",
              "      <td>518000.0</td>\n",
              "      <td>low</td>\n",
              "    </tr>\n",
              "    <tr>\n",
              "      <th>230</th>\n",
              "      <td>Wyndham Vale</td>\n",
              "      <td>House</td>\n",
              "      <td>3</td>\n",
              "      <td>1.0</td>\n",
              "      <td>2.0</td>\n",
              "      <td>450000.0</td>\n",
              "      <td>Wyndham Vale</td>\n",
              "      <td>482500.0</td>\n",
              "      <td>low</td>\n",
              "    </tr>\n",
              "    <tr>\n",
              "      <th>231</th>\n",
              "      <td>Yarraville</td>\n",
              "      <td>House</td>\n",
              "      <td>4</td>\n",
              "      <td>2.0</td>\n",
              "      <td>2.0</td>\n",
              "      <td>960100.0</td>\n",
              "      <td>Yarraville</td>\n",
              "      <td>960100.0</td>\n",
              "      <td>medium</td>\n",
              "    </tr>\n",
              "    <tr>\n",
              "      <th>232</th>\n",
              "      <td>Yarraville</td>\n",
              "      <td>House</td>\n",
              "      <td>3</td>\n",
              "      <td>1.0</td>\n",
              "      <td>1.0</td>\n",
              "      <td>960100.0</td>\n",
              "      <td>Yarraville</td>\n",
              "      <td>960100.0</td>\n",
              "      <td>medium</td>\n",
              "    </tr>\n",
              "  </tbody>\n",
              "</table>\n",
              "<p>224 rows × 9 columns</p>\n",
              "</div>"
            ],
            "text/plain": [
              "                suburb propertyType  ...  Jul - Sep 20  suburb_rank\n",
              "0           Abbotsford    Townhouse  ...     1260000.0         high\n",
              "1           Ascot Vale        House  ...     1328800.0         high\n",
              "2              Ashwood        House  ...     1210500.0         high\n",
              "3    Aspendale Gardens        House  ...     1002500.0       medium\n",
              "4              Attwood        House  ...      714000.0       medium\n",
              "..                 ...          ...  ...           ...          ...\n",
              "228           Werribee        House  ...      518000.0          low\n",
              "229           Werribee        House  ...      518000.0          low\n",
              "230       Wyndham Vale        House  ...      482500.0          low\n",
              "231         Yarraville        House  ...      960100.0       medium\n",
              "232         Yarraville        House  ...      960100.0       medium\n",
              "\n",
              "[224 rows x 9 columns]"
            ]
          },
          "metadata": {},
          "execution_count": 258
        }
      ]
    },
    {
      "cell_type": "code",
      "metadata": {
        "id": "lxO53PsTHG6M"
      },
      "source": [
        "with_medianprice.drop(columns=['SUBURB','Jul - Sep 20','suburb'],inplace=True)"
      ],
      "execution_count": 259,
      "outputs": []
    },
    {
      "cell_type": "markdown",
      "metadata": {
        "id": "nDloVrmV47BX"
      },
      "source": [
        "Draw a boxplot to see how price distributed. Around half of them are over 1 millon."
      ]
    },
    {
      "cell_type": "code",
      "metadata": {
        "id": "OD5ZOG8oMNHI"
      },
      "source": [
        "import matplotlib.pyplot as plt\n"
      ],
      "execution_count": 262,
      "outputs": []
    },
    {
      "cell_type": "code",
      "metadata": {
        "colab": {
          "base_uri": "https://localhost:8080/",
          "height": 412
        },
        "id": "JhTRpcHgPaYs",
        "outputId": "babe8ac7-36b8-42b5-a129-a1db46d76ec1"
      },
      "source": [
        "plt.boxplot(with_medianprice['price'])"
      ],
      "execution_count": 263,
      "outputs": [
        {
          "output_type": "execute_result",
          "data": {
            "text/plain": [
              "{'boxes': [<matplotlib.lines.Line2D at 0x7fde99ba5d50>],\n",
              " 'caps': [<matplotlib.lines.Line2D at 0x7fde99ba81d0>,\n",
              "  <matplotlib.lines.Line2D at 0x7fde99ba8310>],\n",
              " 'fliers': [<matplotlib.lines.Line2D at 0x7fde99ba9e90>],\n",
              " 'means': [],\n",
              " 'medians': [<matplotlib.lines.Line2D at 0x7fde99ba8fd0>],\n",
              " 'whiskers': [<matplotlib.lines.Line2D at 0x7fde99ba5910>,\n",
              "  <matplotlib.lines.Line2D at 0x7fde99ba5d90>]}"
            ]
          },
          "metadata": {},
          "execution_count": 263
        },
        {
          "output_type": "display_data",
          "data": {
            "image/png": "[encoded data removed]",
            "text/plain": [
              "<Figure size 432x288 with 1 Axes>"
            ]
          },
          "metadata": {
            "needs_background": "light"
          }
        }
      ]
    },
    {
      "cell_type": "code",
      "metadata": {
        "colab": {
          "base_uri": "https://localhost:8080/"
        },
        "id": "JAqKgrI6azOw",
        "outputId": "a0d52763-80c1-4caa-9222-6f71e4d14cfa"
      },
      "source": [
        "mask=with_medianprice['price']>1000000\n",
        "mask"
      ],
      "execution_count": 264,
      "outputs": [
        {
          "output_type": "execute_result",
          "data": {
            "text/plain": [
              "0      False\n",
              "1       True\n",
              "2       True\n",
              "3       True\n",
              "4      False\n",
              "       ...  \n",
              "228    False\n",
              "229    False\n",
              "230    False\n",
              "231    False\n",
              "232    False\n",
              "Name: price, Length: 224, dtype: bool"
            ]
          },
          "metadata": {},
          "execution_count": 264
        }
      ]
    },
    {
      "cell_type": "markdown",
      "metadata": {
        "id": "x7xFqclB5S4o"
      },
      "source": [
        "Now I label the price over 1 million as '1', otherwise 0."
      ]
    },
    {
      "cell_type": "code",
      "metadata": {
        "id": "qnIY4ES1Z1Er"
      },
      "source": [
        "with_medianprice.loc[mask,'price']=1\n",
        "\n"
      ],
      "execution_count": 265,
      "outputs": []
    },
    {
      "cell_type": "code",
      "metadata": {
        "id": "Tu9B2L6bcu4b"
      },
      "source": [
        "with_medianprice.loc[~mask,'price']=0"
      ],
      "execution_count": 266,
      "outputs": []
    },
    {
      "cell_type": "code",
      "metadata": {
        "colab": {
          "base_uri": "https://localhost:8080/"
        },
        "id": "oPJCQRVJadLE",
        "outputId": "54b04e86-44f5-4e84-e1a5-3fd72bd4edc8"
      },
      "source": [
        "with_medianprice['price'].value_counts()"
      ],
      "execution_count": 267,
      "outputs": [
        {
          "output_type": "execute_result",
          "data": {
            "text/plain": [
              "0.0    130\n",
              "1.0     94\n",
              "Name: price, dtype: int64"
            ]
          },
          "metadata": {},
          "execution_count": 267
        }
      ]
    },
    {
      "cell_type": "code",
      "metadata": {
        "colab": {
          "base_uri": "https://localhost:8080/",
          "height": 419
        },
        "id": "i7vJK9iac48U",
        "outputId": "cf782a6e-c198-49b4-a1d0-e6b67cd73a2e"
      },
      "source": [
        "with_medianprice"
      ],
      "execution_count": 268,
      "outputs": [
        {
          "output_type": "execute_result",
          "data": {
            "text/html": [
              "<div>\n",
              "<style scoped>\n",
              "    .dataframe tbody tr th:only-of-type {\n",
              "        vertical-align: middle;\n",
              "    }\n",
              "\n",
              "    .dataframe tbody tr th {\n",
              "        vertical-align: top;\n",
              "    }\n",
              "\n",
              "    .dataframe thead th {\n",
              "        text-align: right;\n",
              "    }\n",
              "</style>\n",
              "<table border=\"1\" class=\"dataframe\">\n",
              "  <thead>\n",
              "    <tr style=\"text-align: right;\">\n",
              "      <th></th>\n",
              "      <th>propertyType</th>\n",
              "      <th>bedrooms</th>\n",
              "      <th>bathrooms</th>\n",
              "      <th>carspaces</th>\n",
              "      <th>price</th>\n",
              "      <th>suburb_rank</th>\n",
              "    </tr>\n",
              "  </thead>\n",
              "  <tbody>\n",
              "    <tr>\n",
              "      <th>0</th>\n",
              "      <td>Townhouse</td>\n",
              "      <td>2</td>\n",
              "      <td>2.0</td>\n",
              "      <td>1.0</td>\n",
              "      <td>0.0</td>\n",
              "      <td>high</td>\n",
              "    </tr>\n",
              "    <tr>\n",
              "      <th>1</th>\n",
              "      <td>House</td>\n",
              "      <td>4</td>\n",
              "      <td>1.0</td>\n",
              "      <td>1.0</td>\n",
              "      <td>1.0</td>\n",
              "      <td>high</td>\n",
              "    </tr>\n",
              "    <tr>\n",
              "      <th>2</th>\n",
              "      <td>House</td>\n",
              "      <td>3</td>\n",
              "      <td>1.0</td>\n",
              "      <td>2.0</td>\n",
              "      <td>1.0</td>\n",
              "      <td>high</td>\n",
              "    </tr>\n",
              "    <tr>\n",
              "      <th>3</th>\n",
              "      <td>House</td>\n",
              "      <td>4</td>\n",
              "      <td>2.0</td>\n",
              "      <td>2.0</td>\n",
              "      <td>1.0</td>\n",
              "      <td>medium</td>\n",
              "    </tr>\n",
              "    <tr>\n",
              "      <th>4</th>\n",
              "      <td>House</td>\n",
              "      <td>4</td>\n",
              "      <td>1.0</td>\n",
              "      <td>2.0</td>\n",
              "      <td>0.0</td>\n",
              "      <td>medium</td>\n",
              "    </tr>\n",
              "    <tr>\n",
              "      <th>...</th>\n",
              "      <td>...</td>\n",
              "      <td>...</td>\n",
              "      <td>...</td>\n",
              "      <td>...</td>\n",
              "      <td>...</td>\n",
              "      <td>...</td>\n",
              "    </tr>\n",
              "    <tr>\n",
              "      <th>228</th>\n",
              "      <td>House</td>\n",
              "      <td>4</td>\n",
              "      <td>2.0</td>\n",
              "      <td>2.0</td>\n",
              "      <td>0.0</td>\n",
              "      <td>low</td>\n",
              "    </tr>\n",
              "    <tr>\n",
              "      <th>229</th>\n",
              "      <td>House</td>\n",
              "      <td>4</td>\n",
              "      <td>2.0</td>\n",
              "      <td>2.0</td>\n",
              "      <td>0.0</td>\n",
              "      <td>low</td>\n",
              "    </tr>\n",
              "    <tr>\n",
              "      <th>230</th>\n",
              "      <td>House</td>\n",
              "      <td>3</td>\n",
              "      <td>1.0</td>\n",
              "      <td>2.0</td>\n",
              "      <td>0.0</td>\n",
              "      <td>low</td>\n",
              "    </tr>\n",
              "    <tr>\n",
              "      <th>231</th>\n",
              "      <td>House</td>\n",
              "      <td>4</td>\n",
              "      <td>2.0</td>\n",
              "      <td>2.0</td>\n",
              "      <td>0.0</td>\n",
              "      <td>medium</td>\n",
              "    </tr>\n",
              "    <tr>\n",
              "      <th>232</th>\n",
              "      <td>House</td>\n",
              "      <td>3</td>\n",
              "      <td>1.0</td>\n",
              "      <td>1.0</td>\n",
              "      <td>0.0</td>\n",
              "      <td>medium</td>\n",
              "    </tr>\n",
              "  </tbody>\n",
              "</table>\n",
              "<p>224 rows × 6 columns</p>\n",
              "</div>"
            ],
            "text/plain": [
              "    propertyType  bedrooms  bathrooms  carspaces  price suburb_rank\n",
              "0      Townhouse         2        2.0        1.0    0.0        high\n",
              "1          House         4        1.0        1.0    1.0        high\n",
              "2          House         3        1.0        2.0    1.0        high\n",
              "3          House         4        2.0        2.0    1.0      medium\n",
              "4          House         4        1.0        2.0    0.0      medium\n",
              "..           ...       ...        ...        ...    ...         ...\n",
              "228        House         4        2.0        2.0    0.0         low\n",
              "229        House         4        2.0        2.0    0.0         low\n",
              "230        House         3        1.0        2.0    0.0         low\n",
              "231        House         4        2.0        2.0    0.0      medium\n",
              "232        House         3        1.0        1.0    0.0      medium\n",
              "\n",
              "[224 rows x 6 columns]"
            ]
          },
          "metadata": {},
          "execution_count": 268
        }
      ]
    },
    {
      "cell_type": "code",
      "metadata": {
        "id": "KkWtjT-FdLvg"
      },
      "source": [
        "X=with_medianprice.drop(columns='price')\n",
        "y=with_medianprice['price']"
      ],
      "execution_count": 269,
      "outputs": []
    },
    {
      "cell_type": "code",
      "metadata": {
        "colab": {
          "base_uri": "https://localhost:8080/"
        },
        "id": "sdyF-Ul2dmy9",
        "outputId": "aece57a6-0056-45ff-e121-402d1a332b96"
      },
      "source": [
        "y"
      ],
      "execution_count": 270,
      "outputs": [
        {
          "output_type": "execute_result",
          "data": {
            "text/plain": [
              "0      0.0\n",
              "1      1.0\n",
              "2      1.0\n",
              "3      1.0\n",
              "4      0.0\n",
              "      ... \n",
              "228    0.0\n",
              "229    0.0\n",
              "230    0.0\n",
              "231    0.0\n",
              "232    0.0\n",
              "Name: price, Length: 224, dtype: float64"
            ]
          },
          "metadata": {},
          "execution_count": 270
        }
      ]
    },
    {
      "cell_type": "markdown",
      "metadata": {
        "id": "2iFfbDgE5feO"
      },
      "source": [
        "After encoding, this is our final dataframe to use to build classification model."
      ]
    },
    {
      "cell_type": "code",
      "metadata": {
        "colab": {
          "base_uri": "https://localhost:8080/",
          "height": 419
        },
        "id": "hVyrKMXTVgcV",
        "outputId": "0ca95e29-c5d7-48ce-aea2-de91a8242963"
      },
      "source": [
        "X=pd.get_dummies(X,columns=['propertyType','suburb_rank'],prefix=['propertyType','suburb_rank'],drop_first=True)\n",
        "X"
      ],
      "execution_count": 271,
      "outputs": [
        {
          "output_type": "execute_result",
          "data": {
            "text/html": [
              "<div>\n",
              "<style scoped>\n",
              "    .dataframe tbody tr th:only-of-type {\n",
              "        vertical-align: middle;\n",
              "    }\n",
              "\n",
              "    .dataframe tbody tr th {\n",
              "        vertical-align: top;\n",
              "    }\n",
              "\n",
              "    .dataframe thead th {\n",
              "        text-align: right;\n",
              "    }\n",
              "</style>\n",
              "<table border=\"1\" class=\"dataframe\">\n",
              "  <thead>\n",
              "    <tr style=\"text-align: right;\">\n",
              "      <th></th>\n",
              "      <th>bedrooms</th>\n",
              "      <th>bathrooms</th>\n",
              "      <th>carspaces</th>\n",
              "      <th>propertyType_Townhouse</th>\n",
              "      <th>propertyType_Unit</th>\n",
              "      <th>suburb_rank_low</th>\n",
              "      <th>suburb_rank_medium</th>\n",
              "    </tr>\n",
              "  </thead>\n",
              "  <tbody>\n",
              "    <tr>\n",
              "      <th>0</th>\n",
              "      <td>2</td>\n",
              "      <td>2.0</td>\n",
              "      <td>1.0</td>\n",
              "      <td>1</td>\n",
              "      <td>0</td>\n",
              "      <td>0</td>\n",
              "      <td>0</td>\n",
              "    </tr>\n",
              "    <tr>\n",
              "      <th>1</th>\n",
              "      <td>4</td>\n",
              "      <td>1.0</td>\n",
              "      <td>1.0</td>\n",
              "      <td>0</td>\n",
              "      <td>0</td>\n",
              "      <td>0</td>\n",
              "      <td>0</td>\n",
              "    </tr>\n",
              "    <tr>\n",
              "      <th>2</th>\n",
              "      <td>3</td>\n",
              "      <td>1.0</td>\n",
              "      <td>2.0</td>\n",
              "      <td>0</td>\n",
              "      <td>0</td>\n",
              "      <td>0</td>\n",
              "      <td>0</td>\n",
              "    </tr>\n",
              "    <tr>\n",
              "      <th>3</th>\n",
              "      <td>4</td>\n",
              "      <td>2.0</td>\n",
              "      <td>2.0</td>\n",
              "      <td>0</td>\n",
              "      <td>0</td>\n",
              "      <td>0</td>\n",
              "      <td>1</td>\n",
              "    </tr>\n",
              "    <tr>\n",
              "      <th>4</th>\n",
              "      <td>4</td>\n",
              "      <td>1.0</td>\n",
              "      <td>2.0</td>\n",
              "      <td>0</td>\n",
              "      <td>0</td>\n",
              "      <td>0</td>\n",
              "      <td>1</td>\n",
              "    </tr>\n",
              "    <tr>\n",
              "      <th>...</th>\n",
              "      <td>...</td>\n",
              "      <td>...</td>\n",
              "      <td>...</td>\n",
              "      <td>...</td>\n",
              "      <td>...</td>\n",
              "      <td>...</td>\n",
              "      <td>...</td>\n",
              "    </tr>\n",
              "    <tr>\n",
              "      <th>228</th>\n",
              "      <td>4</td>\n",
              "      <td>2.0</td>\n",
              "      <td>2.0</td>\n",
              "      <td>0</td>\n",
              "      <td>0</td>\n",
              "      <td>1</td>\n",
              "      <td>0</td>\n",
              "    </tr>\n",
              "    <tr>\n",
              "      <th>229</th>\n",
              "      <td>4</td>\n",
              "      <td>2.0</td>\n",
              "      <td>2.0</td>\n",
              "      <td>0</td>\n",
              "      <td>0</td>\n",
              "      <td>1</td>\n",
              "      <td>0</td>\n",
              "    </tr>\n",
              "    <tr>\n",
              "      <th>230</th>\n",
              "      <td>3</td>\n",
              "      <td>1.0</td>\n",
              "      <td>2.0</td>\n",
              "      <td>0</td>\n",
              "      <td>0</td>\n",
              "      <td>1</td>\n",
              "      <td>0</td>\n",
              "    </tr>\n",
              "    <tr>\n",
              "      <th>231</th>\n",
              "      <td>4</td>\n",
              "      <td>2.0</td>\n",
              "      <td>2.0</td>\n",
              "      <td>0</td>\n",
              "      <td>0</td>\n",
              "      <td>0</td>\n",
              "      <td>1</td>\n",
              "    </tr>\n",
              "    <tr>\n",
              "      <th>232</th>\n",
              "      <td>3</td>\n",
              "      <td>1.0</td>\n",
              "      <td>1.0</td>\n",
              "      <td>0</td>\n",
              "      <td>0</td>\n",
              "      <td>0</td>\n",
              "      <td>1</td>\n",
              "    </tr>\n",
              "  </tbody>\n",
              "</table>\n",
              "<p>224 rows × 7 columns</p>\n",
              "</div>"
            ],
            "text/plain": [
              "     bedrooms  bathrooms  ...  suburb_rank_low  suburb_rank_medium\n",
              "0           2        2.0  ...                0                   0\n",
              "1           4        1.0  ...                0                   0\n",
              "2           3        1.0  ...                0                   0\n",
              "3           4        2.0  ...                0                   1\n",
              "4           4        1.0  ...                0                   1\n",
              "..        ...        ...  ...              ...                 ...\n",
              "228         4        2.0  ...                1                   0\n",
              "229         4        2.0  ...                1                   0\n",
              "230         3        1.0  ...                1                   0\n",
              "231         4        2.0  ...                0                   1\n",
              "232         3        1.0  ...                0                   1\n",
              "\n",
              "[224 rows x 7 columns]"
            ]
          },
          "metadata": {},
          "execution_count": 271
        }
      ]
    },
    {
      "cell_type": "code",
      "metadata": {
        "id": "6Zjpmh1tBgFv"
      },
      "source": [
        "from sklearn.model_selection import train_test_split\n",
        "X_train,X_test,y_train,y_test=train_test_split(X,y,random_state=42)"
      ],
      "execution_count": 272,
      "outputs": []
    },
    {
      "cell_type": "code",
      "metadata": {
        "colab": {
          "base_uri": "https://localhost:8080/"
        },
        "id": "CPgkrZMS-r97",
        "outputId": "e6391e38-14ab-4ffe-d449-b4469b8fdf56"
      },
      "source": [
        "from sklearn.ensemble import RandomForestClassifier\n",
        "rf_clf=RandomForestClassifier()\n",
        "rf_clf.fit(X_train,y_train)\n"
      ],
      "execution_count": 273,
      "outputs": [
        {
          "output_type": "execute_result",
          "data": {
            "text/plain": [
              "RandomForestClassifier(bootstrap=True, ccp_alpha=0.0, class_weight=None,\n",
              "                       criterion='gini', max_depth=None, max_features='auto',\n",
              "                       max_leaf_nodes=None, max_samples=None,\n",
              "                       min_impurity_decrease=0.0, min_impurity_split=None,\n",
              "                       min_samples_leaf=1, min_samples_split=2,\n",
              "                       min_weight_fraction_leaf=0.0, n_estimators=100,\n",
              "                       n_jobs=None, oob_score=False, random_state=None,\n",
              "                       verbose=0, warm_start=False)"
            ]
          },
          "metadata": {},
          "execution_count": 273
        }
      ]
    },
    {
      "cell_type": "markdown",
      "metadata": {
        "id": "w5EhNHWB59MN"
      },
      "source": [
        "I use randomforest here, generate moderately accurate model."
      ]
    },
    {
      "cell_type": "code",
      "metadata": {
        "colab": {
          "base_uri": "https://localhost:8080/"
        },
        "id": "R4b00WkGZsLC",
        "outputId": "76d42bcc-b635-48a6-e5e2-06d753a3325c"
      },
      "source": [
        "print (f'Train Accuracy - : {rf_clf.score(X_train,y_train):.3f}')\n",
        "print (f'Test Accuracy - : {rf_clf.score(X_test,y_test):.3f}')"
      ],
      "execution_count": 274,
      "outputs": [
        {
          "output_type": "stream",
          "name": "stdout",
          "text": [
            "Train Accuracy - : 0.899\n",
            "Test Accuracy - : 0.750\n"
          ]
        }
      ]
    },
    {
      "cell_type": "code",
      "metadata": {
        "id": "supV-egyeJI_"
      },
      "source": [
        "from sklearn.metrics import confusion_matrix\n",
        "from sklearn.metrics import plot_confusion_matrix"
      ],
      "execution_count": 275,
      "outputs": []
    },
    {
      "cell_type": "code",
      "metadata": {
        "id": "9JhIDfp5UE5O",
        "colab": {
          "base_uri": "https://localhost:8080/",
          "height": 296
        },
        "outputId": "6f19da92-d3f2-4fcd-e634-36b90b6cf7a2"
      },
      "source": [
        "#plot confusion matrix\n",
        "plot_confusion_matrix(rf_clf,X_test,y_test,display_labels=[\"over 1m\",\"less than 1m\"])"
      ],
      "execution_count": 276,
      "outputs": [
        {
          "output_type": "execute_result",
          "data": {
            "text/plain": [
              "<sklearn.metrics._plot.confusion_matrix.ConfusionMatrixDisplay at 0x7fde99b36210>"
            ]
          },
          "metadata": {},
          "execution_count": 276
        },
        {
          "output_type": "display_data",
          "data": {
            "image/png": "[encoded data removed]",
            "text/plain": [
              "<Figure size 432x288 with 2 Axes>"
            ]
          },
          "metadata": {
            "needs_background": "light"
          }
        }
      ]
    },
    {
      "cell_type": "markdown",
      "metadata": {
        "id": "YMS7pFrm6nfh"
      },
      "source": [
        "Finally, I will use this model to predict my friends' house price; It was house, has 3 bedrooms, 2 bathrooms, 2 carparks, and it locates in a suburb ranks medium. Hooray! It worths more than one million now!"
      ]
    },
    {
      "cell_type": "code",
      "metadata": {
        "colab": {
          "base_uri": "https://localhost:8080/"
        },
        "id": "pJh1vG4Gggbn",
        "outputId": "5576a3d0-4a4e-45f0-b586-853323fa5b33"
      },
      "source": [
        "rf_clf.predict([[3,2,2,0,0,0,1]])"
      ],
      "execution_count": 277,
      "outputs": [
        {
          "output_type": "execute_result",
          "data": {
            "text/plain": [
              "array([1.])"
            ]
          },
          "metadata": {},
          "execution_count": 277
        }
      ]
    }
  ]
}